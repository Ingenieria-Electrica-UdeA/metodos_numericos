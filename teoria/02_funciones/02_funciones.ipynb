{
  "nbformat": 4,
  "nbformat_minor": 0,
  "metadata": {
    "colab": {
      "provenance": []
    },
    "kernelspec": {
      "name": "python3",
      "display_name": "Python 3"
    },
    "language_info": {
      "name": "python"
    }
  },
  "cells": [
    {
      "cell_type": "markdown",
      "source": [
        "# Funciones\n",
        "\n",
        "Una función es una relación entre dos conjuntos, el dominio y el rango, donde a cada elemento del dominio le corresponde exactamente un elemento del rango.\n",
        "\n",
        "**Dominio:** es el conjunto de todos los valores de entrada posibles para la función. En otras palabras, es el conjunto de todos los valores x para los cuales la función está definida.\n",
        "\n",
        "**Rango:** es el conjunto de todos los valores de salida posibles para la función. Es decir, es el conjunto de todos los valores que la función puede tomar.\n",
        "\n",
        "**Continuidad:** una función es continua en un punto si no hay \"saltos\" o \"interrupciones\" en el gráfico de la función en ese punto. Formalmente, una función f(x) es continua en un punto x=a si se cumplen tres condiciones:\n",
        "\n",
        "- La función está definida en a, es decir, f(a) existe.\n",
        "- El límite de la función cuando x se acerca a existe.\n",
        "- El límite de la función cuando x se acerca a a es igual al valor de la función en a, es decir, lim⁡ x→a f(x)=f(a)\n",
        "\n",
        "**Traslado de funciones:** el traslado de funciones se refiere a mover el gráfico de una función en el plano coordenado. Hay dos tipos principales de traslados:\n",
        "\n",
        "- **Traslado Horizontal:** Se produce al sumar o restar una constante h a la variable x en la función. Por ejemplo, en f(x−h), el gráfico de la función se desplaza h unidades a la derecha, mientras que en f(x+h), el gráfico se desplaza h unidades a la izquierda.\n",
        "\n",
        "- **Traslado Vertical:** Se produce al sumar o restar una constante k al valor de la función. Por ejemplo, en f(x)+k, el gráfico de la función se desplaza k unidades hacia arriba, mientras que en f(x)−k, se desplaza k unidades hacia abajo."
      ],
      "metadata": {
        "id": "PRCfpl7WEG2I"
      }
    },
    {
      "cell_type": "markdown",
      "source": [
        "## Función seno\n",
        "La función seno, denotada como sin⁡(x), es una de las funciones trigonométricas fundamentales. Se define para cualquier valor real de x y se utiliza para modelar fenómenos periódicos, como las ondas.\n",
        "\n",
        "**Dominio:** el dominio de sin⁡(x) es todo el conjunto de números reales, es decir, (−∞,∞).\n",
        "\n",
        "**Rango:** el rango de sin⁡(x) es el intervalo [−1,1], ya que los valores de sin⁡(x).\n",
        "\n",
        "**Continuidad:** la función seno es continua en todos los puntos de su dominio.\n",
        "\n",
        "**Período:** la función seno es periódica con un período de 2π, lo que significa que sin⁡(x+2π)=sin⁡(x) para cualquier valor de x.\n",
        "\n",
        "**Traslado:** la función seno puede ser trasladada verticalmente y horizontalmente.\n",
        "\n",
        " - **Traslado Horizontal:** sin⁡(x−ϕ) desplaza el gráfico de la función sin⁡(x) hacia la derecha por ϕ unidades.\n",
        "\n",
        " - **Traslado vertical:** sin(x)+A desplaza el gráfico de la función sin⁡(x) hacia arriba por A unidades."
      ],
      "metadata": {
        "id": "1kNpyCUkEN9f"
      }
    },
    {
      "cell_type": "code",
      "source": [
        "import numpy as np\n",
        "import matplotlib.pyplot as plt\n",
        "\n",
        "x = np.linspace(-2 * np.pi, 2 * np.pi, 1000)\n",
        "y = np.sin(x)\n",
        "y_horizontal = np.sin(x - np.pi / 4)\n",
        "y_vertical = np.sin(x) + 0.5\n",
        "\n",
        "plt.figure(figsize=(12, 8))\n",
        "plt.plot(x, y, label='sin(x)', color='blue')\n",
        "plt.plot(x, y_horizontal, label='sin(x - π/4)', linestyle='--', color='red')\n",
        "plt.plot(x, y_vertical, label='sin(x) + 0.5', linestyle=':', color='green')\n",
        "\n",
        "plt.title('Función Seno y Traslados')\n",
        "plt.xlabel('x')\n",
        "plt.ylabel('sin(x)')\n",
        "plt.axhline(0, color='black',linewidth=0.5)\n",
        "plt.axvline(0, color='black',linewidth=0.5)\n",
        "plt.grid(True, linestyle='--', alpha=0.7)\n",
        "plt.legend()\n",
        "plt.show()\n"
      ],
      "metadata": {
        "id": "YEQfeoClDwNv"
      },
      "execution_count": null,
      "outputs": []
    }
  ]
}