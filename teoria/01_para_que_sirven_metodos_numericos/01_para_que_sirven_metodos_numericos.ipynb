{
  "nbformat": 4,
  "nbformat_minor": 0,
  "metadata": {
    "colab": {
      "provenance": []
    },
    "kernelspec": {
      "name": "python3",
      "display_name": "Python 3"
    },
    "language_info": {
      "name": "python"
    }
  },
  "cells": [
    {
      "cell_type": "markdown",
      "source": [
        "# ¿Para qué sirven los métodos numéricos?\n",
        "\n",
        "Son técnicas matemáticas utilizadas para encontrar soluciones aproximadas a problemas matemáticos que no tienen soluciones exactas o prácticas. Estos métodos permiten abordar problemas complejos mediante la computación práctica. Muchas veces, los problemas que involucran ecuaciones no lineales, sistemas de ecuaciones o ecuaciones diferenciales no pueden resolverse exactamente, y los métodos numéricos ofrecen aproximaciones útiles."
      ],
      "metadata": {
        "id": "T2ouy7XK9eyW"
      }
    },
    {
      "cell_type": "markdown",
      "source": [
        "Un ejemplo clásico del uso de métodos numéricos es el problema de la circunferencia. Si queremos encontrar el área y el perímetro de una circunferencia con radio `r`, usamos las fórmulas exactas `π * r^2` para el área y `2 * π * r` para el perímetro. Sin embargo, dado que `π` no tiene una representación exacta en la práctica, se utilizan métodos numéricos para aproximar su valor. Por ejemplo, se pueden emplear series infinitas como la serie de Leibniz para aproximar `π`, y luego usar esta aproximación para calcular el área y el perímetro de la circunferencia."
      ],
      "metadata": {
        "id": "rQEGQVhY9ALO"
      }
    },
    {
      "cell_type": "code",
      "execution_count": null,
      "metadata": {
        "id": "7BAD8Ygm8iAf"
      },
      "outputs": [],
      "source": [
        "import numpy as np\n",
        "import matplotlib.pyplot as plt\n",
        "\n",
        "r = 5\n",
        "pi_approx = np.pi\n",
        "area = pi_approx * r**2\n",
        "perimetro = 2 * pi_approx * r\n",
        "\n",
        "print(f\"Con radio r = {r}:\")\n",
        "print(f\"Área (A) = π * r^2 = {area:.2f}\")\n",
        "print(f\"Perímetro (P) = 2 * π * r = {perimetro:.2f}\")\n",
        "\n",
        "fig, ax = plt.subplots()\n",
        "circle = plt.Circle((0, 0), r, color='blue', fill=False, linestyle='--', linewidth=2)\n",
        "ax.add_patch(circle)\n",
        "\n",
        "ax.set_xlim(-r-1, r+1)\n",
        "ax.set_ylim(-r-1, r+1)\n",
        "ax.set_aspect('equal', 'box')\n",
        "ax.set_title(\"Circunferencia con radio r\")\n",
        "ax.set_xlabel(\"Eje X\")\n",
        "ax.set_ylabel(\"Eje Y\")\n",
        "plt.grid(True)\n",
        "plt.show()"
      ]
    },
    {
      "cell_type": "markdown",
      "source": [
        "Otro ejemplo de cómo se aplican los métodos numéricos es en el diseño de una calculadora. Las funciones matemáticas complejas, como raíces cuadradas, logaritmos y funciones trigonométricas, se implementan utilizando técnicas numéricas. Para calcular una raíz cuadrada, se puede usar el método de Newton-Raphson, que aproxima la raíz de una ecuación mediante iteraciones. Los logaritmos, que son difíciles de calcular directamente, se aproximan usando series de Taylor o métodos de interpolación. De manera similar, las funciones trigonométricas, como el seno y el coseno, se aproximan mediante series de Taylor o métodos iterativos."
      ],
      "metadata": {
        "id": "355-nvAJ9Erm"
      }
    },
    {
      "cell_type": "code",
      "source": [
        "import numpy as np\n",
        "\n",
        "def newton_raphson_sqrt(x, tol=1e-10, max_iter=5):\n",
        "    guess = x\n",
        "    iteration = 0\n",
        "\n",
        "    while iteration < max_iter:\n",
        "        next_guess = 0.5 * (guess + x / guess)\n",
        "        if abs(next_guess - guess) < tol:\n",
        "            return next_guess\n",
        "        guess = next_guess\n",
        "        iteration += 1\n",
        "    return guess\n",
        "num = 200\n",
        "sqrt_approx = newton_raphson_sqrt(num)\n",
        "print(f\"La raíz cuadrada aproximada de {num} es {sqrt_approx:.5f}\")\n",
        "\n",
        "\n",
        "def approximate_log(x, base=np.e, terms=10):\n",
        "    result = 0\n",
        "    for n in range(1, terms+1):\n",
        "        result += ((-1)**(n+1)) * ((x - 1)**n) / (n * base**(n-1))\n",
        "    return result\n",
        "log_approx = approximate_log(10, base=np.e)\n",
        "print(f\"El logaritmo aproximado de 10 (base e) es {log_approx:.5f}\")\n"
      ],
      "metadata": {
        "id": "um7t4Mop9ERO"
      },
      "execution_count": null,
      "outputs": []
    }
  ]
}